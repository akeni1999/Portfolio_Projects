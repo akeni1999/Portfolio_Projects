{
 "cells": [
  {
   "cell_type": "markdown",
   "id": "061fc417",
   "metadata": {},
   "source": [
    " ### Importing the Required Libraries\n"
   ]
  },
  {
   "cell_type": "code",
   "execution_count": 33,
   "id": "ba5571a1",
   "metadata": {},
   "outputs": [],
   "source": [
    "import numpy as np\n",
    "import pandas as pd\n",
    "import matplotlib.pyplot as plt"
   ]
  },
  {
   "cell_type": "markdown",
   "id": "d9de6e2c",
   "metadata": {},
   "source": [
    "### Data Pre-Processing"
   ]
  },
  {
   "cell_type": "code",
   "execution_count": 34,
   "id": "7b02786d",
   "metadata": {},
   "outputs": [
    {
     "data": {
      "text/html": [
       "<div>\n",
       "<style scoped>\n",
       "    .dataframe tbody tr th:only-of-type {\n",
       "        vertical-align: middle;\n",
       "    }\n",
       "\n",
       "    .dataframe tbody tr th {\n",
       "        vertical-align: top;\n",
       "    }\n",
       "\n",
       "    .dataframe thead th {\n",
       "        text-align: right;\n",
       "    }\n",
       "</style>\n",
       "<table border=\"1\" class=\"dataframe\">\n",
       "  <thead>\n",
       "    <tr style=\"text-align: right;\">\n",
       "      <th></th>\n",
       "      <th>age</th>\n",
       "      <th>job</th>\n",
       "      <th>marital</th>\n",
       "      <th>education</th>\n",
       "      <th>default</th>\n",
       "      <th>balance</th>\n",
       "      <th>housing</th>\n",
       "      <th>loan</th>\n",
       "      <th>contact</th>\n",
       "      <th>day</th>\n",
       "      <th>month</th>\n",
       "      <th>duration</th>\n",
       "      <th>campaign</th>\n",
       "      <th>pdays</th>\n",
       "      <th>previous</th>\n",
       "      <th>poutcome</th>\n",
       "      <th>y</th>\n",
       "    </tr>\n",
       "  </thead>\n",
       "  <tbody>\n",
       "    <tr>\n",
       "      <th>0</th>\n",
       "      <td>30</td>\n",
       "      <td>unemployed</td>\n",
       "      <td>married</td>\n",
       "      <td>primary</td>\n",
       "      <td>no</td>\n",
       "      <td>1787</td>\n",
       "      <td>no</td>\n",
       "      <td>no</td>\n",
       "      <td>cellular</td>\n",
       "      <td>19</td>\n",
       "      <td>oct</td>\n",
       "      <td>79</td>\n",
       "      <td>1</td>\n",
       "      <td>-1</td>\n",
       "      <td>0</td>\n",
       "      <td>unknown</td>\n",
       "      <td>no</td>\n",
       "    </tr>\n",
       "    <tr>\n",
       "      <th>1</th>\n",
       "      <td>33</td>\n",
       "      <td>services</td>\n",
       "      <td>married</td>\n",
       "      <td>secondary</td>\n",
       "      <td>no</td>\n",
       "      <td>4789</td>\n",
       "      <td>yes</td>\n",
       "      <td>yes</td>\n",
       "      <td>cellular</td>\n",
       "      <td>11</td>\n",
       "      <td>may</td>\n",
       "      <td>220</td>\n",
       "      <td>1</td>\n",
       "      <td>339</td>\n",
       "      <td>4</td>\n",
       "      <td>failure</td>\n",
       "      <td>no</td>\n",
       "    </tr>\n",
       "    <tr>\n",
       "      <th>2</th>\n",
       "      <td>35</td>\n",
       "      <td>management</td>\n",
       "      <td>single</td>\n",
       "      <td>tertiary</td>\n",
       "      <td>no</td>\n",
       "      <td>1350</td>\n",
       "      <td>yes</td>\n",
       "      <td>no</td>\n",
       "      <td>cellular</td>\n",
       "      <td>16</td>\n",
       "      <td>apr</td>\n",
       "      <td>185</td>\n",
       "      <td>1</td>\n",
       "      <td>330</td>\n",
       "      <td>1</td>\n",
       "      <td>failure</td>\n",
       "      <td>no</td>\n",
       "    </tr>\n",
       "    <tr>\n",
       "      <th>3</th>\n",
       "      <td>30</td>\n",
       "      <td>management</td>\n",
       "      <td>married</td>\n",
       "      <td>tertiary</td>\n",
       "      <td>no</td>\n",
       "      <td>1476</td>\n",
       "      <td>yes</td>\n",
       "      <td>yes</td>\n",
       "      <td>unknown</td>\n",
       "      <td>3</td>\n",
       "      <td>jun</td>\n",
       "      <td>199</td>\n",
       "      <td>4</td>\n",
       "      <td>-1</td>\n",
       "      <td>0</td>\n",
       "      <td>unknown</td>\n",
       "      <td>no</td>\n",
       "    </tr>\n",
       "    <tr>\n",
       "      <th>4</th>\n",
       "      <td>59</td>\n",
       "      <td>blue-collar</td>\n",
       "      <td>married</td>\n",
       "      <td>secondary</td>\n",
       "      <td>no</td>\n",
       "      <td>0</td>\n",
       "      <td>yes</td>\n",
       "      <td>no</td>\n",
       "      <td>unknown</td>\n",
       "      <td>5</td>\n",
       "      <td>may</td>\n",
       "      <td>226</td>\n",
       "      <td>1</td>\n",
       "      <td>-1</td>\n",
       "      <td>0</td>\n",
       "      <td>unknown</td>\n",
       "      <td>no</td>\n",
       "    </tr>\n",
       "  </tbody>\n",
       "</table>\n",
       "</div>"
      ],
      "text/plain": [
       "   age          job  marital  education default  balance housing loan  \\\n",
       "0   30   unemployed  married    primary      no     1787      no   no   \n",
       "1   33     services  married  secondary      no     4789     yes  yes   \n",
       "2   35   management   single   tertiary      no     1350     yes   no   \n",
       "3   30   management  married   tertiary      no     1476     yes  yes   \n",
       "4   59  blue-collar  married  secondary      no        0     yes   no   \n",
       "\n",
       "    contact  day month  duration  campaign  pdays  previous poutcome   y  \n",
       "0  cellular   19   oct        79         1     -1         0  unknown  no  \n",
       "1  cellular   11   may       220         1    339         4  failure  no  \n",
       "2  cellular   16   apr       185         1    330         1  failure  no  \n",
       "3   unknown    3   jun       199         4     -1         0  unknown  no  \n",
       "4   unknown    5   may       226         1     -1         0  unknown  no  "
      ]
     },
     "execution_count": 34,
     "metadata": {},
     "output_type": "execute_result"
    }
   ],
   "source": [
    "df = pd.read_csv(\"bank.csv\",sep = \";\")\n",
    "df.head(5)"
   ]
  },
  {
   "cell_type": "markdown",
   "id": "3ccf003c",
   "metadata": {},
   "source": [
    "### Converting Categorical Data into Numerical Form"
   ]
  },
  {
   "cell_type": "code",
   "execution_count": 35,
   "id": "e3b73055",
   "metadata": {},
   "outputs": [],
   "source": [
    "z = {'admin':1,'blue-collar':2,'entrepreneur':3,'housemaid':4,'management':5,'retired':6,'self-employed':7,'services':8,'student':9,'technician':10,'unemployed':11,'unknown':12}\n",
    "df['job'] = df['job'].map(z)\n"
   ]
  },
  {
   "cell_type": "code",
   "execution_count": 36,
   "id": "4a86ec3b",
   "metadata": {},
   "outputs": [],
   "source": [
    "b = {'single':1, 'married':2, 'divorced':3}\n",
    "df['marital'] = df['marital'].map(b)"
   ]
  },
  {
   "cell_type": "code",
   "execution_count": 37,
   "id": "99acbed5",
   "metadata": {},
   "outputs": [],
   "source": [
    "c = {'primary':1,'secondary':2,'tertiary':3,'unknown':4}\n",
    "df['education'] = df['education'].map(c)"
   ]
  },
  {
   "cell_type": "code",
   "execution_count": 38,
   "id": "c70614a8",
   "metadata": {},
   "outputs": [],
   "source": [
    "d = {'no': 0, 'yes': 1}\n",
    "df['default'] = df['default'].map(d)"
   ]
  },
  {
   "cell_type": "code",
   "execution_count": 39,
   "id": "e8fe240e",
   "metadata": {},
   "outputs": [],
   "source": [
    "e = {'no': 0, 'yes': 1}\n",
    "df['housing'] = df['housing'].map(e)"
   ]
  },
  {
   "cell_type": "code",
   "execution_count": 40,
   "id": "eab59021",
   "metadata": {},
   "outputs": [],
   "source": [
    "f = {'no': 0, 'yes': 1}\n",
    "df['loan'] = df['loan'].map(d)"
   ]
  },
  {
   "cell_type": "code",
   "execution_count": 41,
   "id": "f3d2aeab",
   "metadata": {},
   "outputs": [],
   "source": [
    "g = {'jan':1,'feb':2,'mar':3,\"apr\":4,\"may\":5,\"jun\":6,\"jul\":7,\"aug\":8,\"sep\":9,\"oct\":10,\"nov\":11,\"dec\":12}\n",
    "df['month'] = df['month'].map(g)"
   ]
  },
  {
   "cell_type": "code",
   "execution_count": 42,
   "id": "37bb12e5",
   "metadata": {},
   "outputs": [],
   "source": [
    "h = {'cellular':1,'telephone':2,'unknown':3}\n",
    "df['contact'] = df['contact'].map(h)"
   ]
  },
  {
   "cell_type": "code",
   "execution_count": 43,
   "id": "8311edf0",
   "metadata": {},
   "outputs": [],
   "source": [
    "i = {'failure':0,'success':1,'unknown':2,'other':3}\n",
    "df['poutcome'] = df['poutcome'].map(i)"
   ]
  },
  {
   "cell_type": "code",
   "execution_count": 44,
   "id": "4bc365c5",
   "metadata": {},
   "outputs": [],
   "source": [
    "j = {'no':0,'yes':1}\n",
    "df['y'] = df['y'].map(j)"
   ]
  },
  {
   "cell_type": "code",
   "execution_count": 45,
   "id": "766db8d6",
   "metadata": {},
   "outputs": [
    {
     "data": {
      "text/html": [
       "<div>\n",
       "<style scoped>\n",
       "    .dataframe tbody tr th:only-of-type {\n",
       "        vertical-align: middle;\n",
       "    }\n",
       "\n",
       "    .dataframe tbody tr th {\n",
       "        vertical-align: top;\n",
       "    }\n",
       "\n",
       "    .dataframe thead th {\n",
       "        text-align: right;\n",
       "    }\n",
       "</style>\n",
       "<table border=\"1\" class=\"dataframe\">\n",
       "  <thead>\n",
       "    <tr style=\"text-align: right;\">\n",
       "      <th></th>\n",
       "      <th>age</th>\n",
       "      <th>job</th>\n",
       "      <th>marital</th>\n",
       "      <th>education</th>\n",
       "      <th>default</th>\n",
       "      <th>balance</th>\n",
       "      <th>housing</th>\n",
       "      <th>loan</th>\n",
       "      <th>contact</th>\n",
       "      <th>day</th>\n",
       "      <th>month</th>\n",
       "      <th>duration</th>\n",
       "      <th>campaign</th>\n",
       "      <th>pdays</th>\n",
       "      <th>previous</th>\n",
       "      <th>poutcome</th>\n",
       "      <th>y</th>\n",
       "    </tr>\n",
       "  </thead>\n",
       "  <tbody>\n",
       "    <tr>\n",
       "      <th>0</th>\n",
       "      <td>30</td>\n",
       "      <td>11.0</td>\n",
       "      <td>2</td>\n",
       "      <td>1</td>\n",
       "      <td>0</td>\n",
       "      <td>1787</td>\n",
       "      <td>0</td>\n",
       "      <td>0</td>\n",
       "      <td>1</td>\n",
       "      <td>19</td>\n",
       "      <td>10</td>\n",
       "      <td>79</td>\n",
       "      <td>1</td>\n",
       "      <td>-1</td>\n",
       "      <td>0</td>\n",
       "      <td>2</td>\n",
       "      <td>0</td>\n",
       "    </tr>\n",
       "    <tr>\n",
       "      <th>1</th>\n",
       "      <td>33</td>\n",
       "      <td>8.0</td>\n",
       "      <td>2</td>\n",
       "      <td>2</td>\n",
       "      <td>0</td>\n",
       "      <td>4789</td>\n",
       "      <td>1</td>\n",
       "      <td>1</td>\n",
       "      <td>1</td>\n",
       "      <td>11</td>\n",
       "      <td>5</td>\n",
       "      <td>220</td>\n",
       "      <td>1</td>\n",
       "      <td>339</td>\n",
       "      <td>4</td>\n",
       "      <td>0</td>\n",
       "      <td>0</td>\n",
       "    </tr>\n",
       "    <tr>\n",
       "      <th>2</th>\n",
       "      <td>35</td>\n",
       "      <td>5.0</td>\n",
       "      <td>1</td>\n",
       "      <td>3</td>\n",
       "      <td>0</td>\n",
       "      <td>1350</td>\n",
       "      <td>1</td>\n",
       "      <td>0</td>\n",
       "      <td>1</td>\n",
       "      <td>16</td>\n",
       "      <td>4</td>\n",
       "      <td>185</td>\n",
       "      <td>1</td>\n",
       "      <td>330</td>\n",
       "      <td>1</td>\n",
       "      <td>0</td>\n",
       "      <td>0</td>\n",
       "    </tr>\n",
       "    <tr>\n",
       "      <th>3</th>\n",
       "      <td>30</td>\n",
       "      <td>5.0</td>\n",
       "      <td>2</td>\n",
       "      <td>3</td>\n",
       "      <td>0</td>\n",
       "      <td>1476</td>\n",
       "      <td>1</td>\n",
       "      <td>1</td>\n",
       "      <td>3</td>\n",
       "      <td>3</td>\n",
       "      <td>6</td>\n",
       "      <td>199</td>\n",
       "      <td>4</td>\n",
       "      <td>-1</td>\n",
       "      <td>0</td>\n",
       "      <td>2</td>\n",
       "      <td>0</td>\n",
       "    </tr>\n",
       "    <tr>\n",
       "      <th>4</th>\n",
       "      <td>59</td>\n",
       "      <td>2.0</td>\n",
       "      <td>2</td>\n",
       "      <td>2</td>\n",
       "      <td>0</td>\n",
       "      <td>0</td>\n",
       "      <td>1</td>\n",
       "      <td>0</td>\n",
       "      <td>3</td>\n",
       "      <td>5</td>\n",
       "      <td>5</td>\n",
       "      <td>226</td>\n",
       "      <td>1</td>\n",
       "      <td>-1</td>\n",
       "      <td>0</td>\n",
       "      <td>2</td>\n",
       "      <td>0</td>\n",
       "    </tr>\n",
       "  </tbody>\n",
       "</table>\n",
       "</div>"
      ],
      "text/plain": [
       "   age   job  marital  education  default  balance  housing  loan  contact  \\\n",
       "0   30  11.0        2          1        0     1787        0     0        1   \n",
       "1   33   8.0        2          2        0     4789        1     1        1   \n",
       "2   35   5.0        1          3        0     1350        1     0        1   \n",
       "3   30   5.0        2          3        0     1476        1     1        3   \n",
       "4   59   2.0        2          2        0        0        1     0        3   \n",
       "\n",
       "   day  month  duration  campaign  pdays  previous  poutcome  y  \n",
       "0   19     10        79         1     -1         0         2  0  \n",
       "1   11      5       220         1    339         4         0  0  \n",
       "2   16      4       185         1    330         1         0  0  \n",
       "3    3      6       199         4     -1         0         2  0  \n",
       "4    5      5       226         1     -1         0         2  0  "
      ]
     },
     "execution_count": 45,
     "metadata": {},
     "output_type": "execute_result"
    }
   ],
   "source": [
    "df.head()"
   ]
  },
  {
   "cell_type": "markdown",
   "id": "30492bc6",
   "metadata": {},
   "source": [
    "### Checking if there are any null values in the dataset"
   ]
  },
  {
   "cell_type": "code",
   "execution_count": 46,
   "id": "dc6a842f",
   "metadata": {},
   "outputs": [
    {
     "data": {
      "text/plain": [
       "age            0\n",
       "job          478\n",
       "marital        0\n",
       "education      0\n",
       "default        0\n",
       "balance        0\n",
       "housing        0\n",
       "loan           0\n",
       "contact        0\n",
       "day            0\n",
       "month          0\n",
       "duration       0\n",
       "campaign       0\n",
       "pdays          0\n",
       "previous       0\n",
       "poutcome       0\n",
       "y              0\n",
       "dtype: int64"
      ]
     },
     "execution_count": 46,
     "metadata": {},
     "output_type": "execute_result"
    }
   ],
   "source": [
    "df.isna().sum()"
   ]
  },
  {
   "cell_type": "markdown",
   "id": "0ae508e2",
   "metadata": {},
   "source": [
    "### Removing \"job\" null values"
   ]
  },
  {
   "cell_type": "code",
   "execution_count": 47,
   "id": "2fc50b04",
   "metadata": {},
   "outputs": [],
   "source": [
    "df[\"job\"].fillna(0, inplace = True)"
   ]
  },
  {
   "cell_type": "markdown",
   "id": "08a64622",
   "metadata": {},
   "source": [
    "### Checking if the null values have been removed"
   ]
  },
  {
   "cell_type": "code",
   "execution_count": 48,
   "id": "8d116a41",
   "metadata": {},
   "outputs": [
    {
     "data": {
      "text/plain": [
       "age          0\n",
       "job          0\n",
       "marital      0\n",
       "education    0\n",
       "default      0\n",
       "balance      0\n",
       "housing      0\n",
       "loan         0\n",
       "contact      0\n",
       "day          0\n",
       "month        0\n",
       "duration     0\n",
       "campaign     0\n",
       "pdays        0\n",
       "previous     0\n",
       "poutcome     0\n",
       "y            0\n",
       "dtype: int64"
      ]
     },
     "execution_count": 48,
     "metadata": {},
     "output_type": "execute_result"
    }
   ],
   "source": [
    "df.isna().sum()"
   ]
  },
  {
   "cell_type": "markdown",
   "id": "c6ab1de8",
   "metadata": {},
   "source": [
    "### Summary of the DataFrame"
   ]
  },
  {
   "cell_type": "code",
   "execution_count": 49,
   "id": "3fcd06ec",
   "metadata": {},
   "outputs": [
    {
     "data": {
      "text/html": [
       "<div>\n",
       "<style scoped>\n",
       "    .dataframe tbody tr th:only-of-type {\n",
       "        vertical-align: middle;\n",
       "    }\n",
       "\n",
       "    .dataframe tbody tr th {\n",
       "        vertical-align: top;\n",
       "    }\n",
       "\n",
       "    .dataframe thead th {\n",
       "        text-align: right;\n",
       "    }\n",
       "</style>\n",
       "<table border=\"1\" class=\"dataframe\">\n",
       "  <thead>\n",
       "    <tr style=\"text-align: right;\">\n",
       "      <th></th>\n",
       "      <th>age</th>\n",
       "      <th>job</th>\n",
       "      <th>marital</th>\n",
       "      <th>education</th>\n",
       "      <th>default</th>\n",
       "      <th>balance</th>\n",
       "      <th>housing</th>\n",
       "      <th>loan</th>\n",
       "      <th>contact</th>\n",
       "      <th>day</th>\n",
       "      <th>month</th>\n",
       "      <th>duration</th>\n",
       "      <th>campaign</th>\n",
       "      <th>pdays</th>\n",
       "      <th>previous</th>\n",
       "      <th>poutcome</th>\n",
       "      <th>y</th>\n",
       "    </tr>\n",
       "  </thead>\n",
       "  <tbody>\n",
       "    <tr>\n",
       "      <th>count</th>\n",
       "      <td>4521.000000</td>\n",
       "      <td>4521.000000</td>\n",
       "      <td>4521.000000</td>\n",
       "      <td>4521.000000</td>\n",
       "      <td>4521.000000</td>\n",
       "      <td>4521.000000</td>\n",
       "      <td>4521.000000</td>\n",
       "      <td>4521.000000</td>\n",
       "      <td>4521.000000</td>\n",
       "      <td>4521.000000</td>\n",
       "      <td>4521.000000</td>\n",
       "      <td>4521.000000</td>\n",
       "      <td>4521.000000</td>\n",
       "      <td>4521.000000</td>\n",
       "      <td>4521.000000</td>\n",
       "      <td>4521.000000</td>\n",
       "      <td>4521.000000</td>\n",
       "    </tr>\n",
       "    <tr>\n",
       "      <th>mean</th>\n",
       "      <td>41.170095</td>\n",
       "      <td>5.305463</td>\n",
       "      <td>1.852245</td>\n",
       "      <td>2.231365</td>\n",
       "      <td>0.016810</td>\n",
       "      <td>1422.657819</td>\n",
       "      <td>0.566025</td>\n",
       "      <td>0.152842</td>\n",
       "      <td>1.652289</td>\n",
       "      <td>15.915284</td>\n",
       "      <td>6.166777</td>\n",
       "      <td>263.961292</td>\n",
       "      <td>2.793630</td>\n",
       "      <td>39.766645</td>\n",
       "      <td>0.542579</td>\n",
       "      <td>1.798275</td>\n",
       "      <td>0.115240</td>\n",
       "    </tr>\n",
       "    <tr>\n",
       "      <th>std</th>\n",
       "      <td>10.576211</td>\n",
       "      <td>3.409875</td>\n",
       "      <td>0.599650</td>\n",
       "      <td>0.748744</td>\n",
       "      <td>0.128575</td>\n",
       "      <td>3009.638142</td>\n",
       "      <td>0.495676</td>\n",
       "      <td>0.359875</td>\n",
       "      <td>0.901498</td>\n",
       "      <td>8.247667</td>\n",
       "      <td>2.378380</td>\n",
       "      <td>259.856633</td>\n",
       "      <td>3.109807</td>\n",
       "      <td>100.121124</td>\n",
       "      <td>1.693562</td>\n",
       "      <td>0.681946</td>\n",
       "      <td>0.319347</td>\n",
       "    </tr>\n",
       "    <tr>\n",
       "      <th>min</th>\n",
       "      <td>19.000000</td>\n",
       "      <td>0.000000</td>\n",
       "      <td>1.000000</td>\n",
       "      <td>1.000000</td>\n",
       "      <td>0.000000</td>\n",
       "      <td>-3313.000000</td>\n",
       "      <td>0.000000</td>\n",
       "      <td>0.000000</td>\n",
       "      <td>1.000000</td>\n",
       "      <td>1.000000</td>\n",
       "      <td>1.000000</td>\n",
       "      <td>4.000000</td>\n",
       "      <td>1.000000</td>\n",
       "      <td>-1.000000</td>\n",
       "      <td>0.000000</td>\n",
       "      <td>0.000000</td>\n",
       "      <td>0.000000</td>\n",
       "    </tr>\n",
       "    <tr>\n",
       "      <th>25%</th>\n",
       "      <td>33.000000</td>\n",
       "      <td>2.000000</td>\n",
       "      <td>1.000000</td>\n",
       "      <td>2.000000</td>\n",
       "      <td>0.000000</td>\n",
       "      <td>69.000000</td>\n",
       "      <td>0.000000</td>\n",
       "      <td>0.000000</td>\n",
       "      <td>1.000000</td>\n",
       "      <td>9.000000</td>\n",
       "      <td>5.000000</td>\n",
       "      <td>104.000000</td>\n",
       "      <td>1.000000</td>\n",
       "      <td>-1.000000</td>\n",
       "      <td>0.000000</td>\n",
       "      <td>2.000000</td>\n",
       "      <td>0.000000</td>\n",
       "    </tr>\n",
       "    <tr>\n",
       "      <th>50%</th>\n",
       "      <td>39.000000</td>\n",
       "      <td>5.000000</td>\n",
       "      <td>2.000000</td>\n",
       "      <td>2.000000</td>\n",
       "      <td>0.000000</td>\n",
       "      <td>444.000000</td>\n",
       "      <td>1.000000</td>\n",
       "      <td>0.000000</td>\n",
       "      <td>1.000000</td>\n",
       "      <td>16.000000</td>\n",
       "      <td>6.000000</td>\n",
       "      <td>185.000000</td>\n",
       "      <td>2.000000</td>\n",
       "      <td>-1.000000</td>\n",
       "      <td>0.000000</td>\n",
       "      <td>2.000000</td>\n",
       "      <td>0.000000</td>\n",
       "    </tr>\n",
       "    <tr>\n",
       "      <th>75%</th>\n",
       "      <td>49.000000</td>\n",
       "      <td>8.000000</td>\n",
       "      <td>2.000000</td>\n",
       "      <td>3.000000</td>\n",
       "      <td>0.000000</td>\n",
       "      <td>1480.000000</td>\n",
       "      <td>1.000000</td>\n",
       "      <td>0.000000</td>\n",
       "      <td>3.000000</td>\n",
       "      <td>21.000000</td>\n",
       "      <td>8.000000</td>\n",
       "      <td>329.000000</td>\n",
       "      <td>3.000000</td>\n",
       "      <td>-1.000000</td>\n",
       "      <td>0.000000</td>\n",
       "      <td>2.000000</td>\n",
       "      <td>0.000000</td>\n",
       "    </tr>\n",
       "    <tr>\n",
       "      <th>max</th>\n",
       "      <td>87.000000</td>\n",
       "      <td>12.000000</td>\n",
       "      <td>3.000000</td>\n",
       "      <td>4.000000</td>\n",
       "      <td>1.000000</td>\n",
       "      <td>71188.000000</td>\n",
       "      <td>1.000000</td>\n",
       "      <td>1.000000</td>\n",
       "      <td>3.000000</td>\n",
       "      <td>31.000000</td>\n",
       "      <td>12.000000</td>\n",
       "      <td>3025.000000</td>\n",
       "      <td>50.000000</td>\n",
       "      <td>871.000000</td>\n",
       "      <td>25.000000</td>\n",
       "      <td>3.000000</td>\n",
       "      <td>1.000000</td>\n",
       "    </tr>\n",
       "  </tbody>\n",
       "</table>\n",
       "</div>"
      ],
      "text/plain": [
       "               age          job      marital    education      default  \\\n",
       "count  4521.000000  4521.000000  4521.000000  4521.000000  4521.000000   \n",
       "mean     41.170095     5.305463     1.852245     2.231365     0.016810   \n",
       "std      10.576211     3.409875     0.599650     0.748744     0.128575   \n",
       "min      19.000000     0.000000     1.000000     1.000000     0.000000   \n",
       "25%      33.000000     2.000000     1.000000     2.000000     0.000000   \n",
       "50%      39.000000     5.000000     2.000000     2.000000     0.000000   \n",
       "75%      49.000000     8.000000     2.000000     3.000000     0.000000   \n",
       "max      87.000000    12.000000     3.000000     4.000000     1.000000   \n",
       "\n",
       "            balance      housing         loan      contact          day  \\\n",
       "count   4521.000000  4521.000000  4521.000000  4521.000000  4521.000000   \n",
       "mean    1422.657819     0.566025     0.152842     1.652289    15.915284   \n",
       "std     3009.638142     0.495676     0.359875     0.901498     8.247667   \n",
       "min    -3313.000000     0.000000     0.000000     1.000000     1.000000   \n",
       "25%       69.000000     0.000000     0.000000     1.000000     9.000000   \n",
       "50%      444.000000     1.000000     0.000000     1.000000    16.000000   \n",
       "75%     1480.000000     1.000000     0.000000     3.000000    21.000000   \n",
       "max    71188.000000     1.000000     1.000000     3.000000    31.000000   \n",
       "\n",
       "             month     duration     campaign        pdays     previous  \\\n",
       "count  4521.000000  4521.000000  4521.000000  4521.000000  4521.000000   \n",
       "mean      6.166777   263.961292     2.793630    39.766645     0.542579   \n",
       "std       2.378380   259.856633     3.109807   100.121124     1.693562   \n",
       "min       1.000000     4.000000     1.000000    -1.000000     0.000000   \n",
       "25%       5.000000   104.000000     1.000000    -1.000000     0.000000   \n",
       "50%       6.000000   185.000000     2.000000    -1.000000     0.000000   \n",
       "75%       8.000000   329.000000     3.000000    -1.000000     0.000000   \n",
       "max      12.000000  3025.000000    50.000000   871.000000    25.000000   \n",
       "\n",
       "          poutcome            y  \n",
       "count  4521.000000  4521.000000  \n",
       "mean      1.798275     0.115240  \n",
       "std       0.681946     0.319347  \n",
       "min       0.000000     0.000000  \n",
       "25%       2.000000     0.000000  \n",
       "50%       2.000000     0.000000  \n",
       "75%       2.000000     0.000000  \n",
       "max       3.000000     1.000000  "
      ]
     },
     "execution_count": 49,
     "metadata": {},
     "output_type": "execute_result"
    }
   ],
   "source": [
    "df.describe()"
   ]
  },
  {
   "cell_type": "code",
   "execution_count": 50,
   "id": "84b62191",
   "metadata": {},
   "outputs": [
    {
     "name": "stdout",
     "output_type": "stream",
     "text": [
      "<class 'pandas.core.frame.DataFrame'>\n",
      "RangeIndex: 4521 entries, 0 to 4520\n",
      "Data columns (total 17 columns):\n",
      " #   Column     Non-Null Count  Dtype  \n",
      "---  ------     --------------  -----  \n",
      " 0   age        4521 non-null   int64  \n",
      " 1   job        4521 non-null   float64\n",
      " 2   marital    4521 non-null   int64  \n",
      " 3   education  4521 non-null   int64  \n",
      " 4   default    4521 non-null   int64  \n",
      " 5   balance    4521 non-null   int64  \n",
      " 6   housing    4521 non-null   int64  \n",
      " 7   loan       4521 non-null   int64  \n",
      " 8   contact    4521 non-null   int64  \n",
      " 9   day        4521 non-null   int64  \n",
      " 10  month      4521 non-null   int64  \n",
      " 11  duration   4521 non-null   int64  \n",
      " 12  campaign   4521 non-null   int64  \n",
      " 13  pdays      4521 non-null   int64  \n",
      " 14  previous   4521 non-null   int64  \n",
      " 15  poutcome   4521 non-null   int64  \n",
      " 16  y          4521 non-null   int64  \n",
      "dtypes: float64(1), int64(16)\n",
      "memory usage: 600.6 KB\n"
     ]
    }
   ],
   "source": [
    "df.info()"
   ]
  },
  {
   "cell_type": "markdown",
   "id": "878ffd08",
   "metadata": {},
   "source": [
    "### Coverting 'Job' DataFrame from Float to Integer"
   ]
  },
  {
   "cell_type": "code",
   "execution_count": 51,
   "id": "2b16b738",
   "metadata": {},
   "outputs": [],
   "source": [
    "df['job'] = df['job'].apply(np.int64)"
   ]
  },
  {
   "cell_type": "markdown",
   "id": "c879e30d",
   "metadata": {},
   "source": [
    "### Checking whether it has been converted into Integer"
   ]
  },
  {
   "cell_type": "code",
   "execution_count": 52,
   "id": "79ce124b",
   "metadata": {
    "scrolled": true
   },
   "outputs": [
    {
     "name": "stdout",
     "output_type": "stream",
     "text": [
      "<class 'pandas.core.frame.DataFrame'>\n",
      "RangeIndex: 4521 entries, 0 to 4520\n",
      "Data columns (total 17 columns):\n",
      " #   Column     Non-Null Count  Dtype\n",
      "---  ------     --------------  -----\n",
      " 0   age        4521 non-null   int64\n",
      " 1   job        4521 non-null   int64\n",
      " 2   marital    4521 non-null   int64\n",
      " 3   education  4521 non-null   int64\n",
      " 4   default    4521 non-null   int64\n",
      " 5   balance    4521 non-null   int64\n",
      " 6   housing    4521 non-null   int64\n",
      " 7   loan       4521 non-null   int64\n",
      " 8   contact    4521 non-null   int64\n",
      " 9   day        4521 non-null   int64\n",
      " 10  month      4521 non-null   int64\n",
      " 11  duration   4521 non-null   int64\n",
      " 12  campaign   4521 non-null   int64\n",
      " 13  pdays      4521 non-null   int64\n",
      " 14  previous   4521 non-null   int64\n",
      " 15  poutcome   4521 non-null   int64\n",
      " 16  y          4521 non-null   int64\n",
      "dtypes: int64(17)\n",
      "memory usage: 600.6 KB\n"
     ]
    }
   ],
   "source": [
    "df.info()"
   ]
  },
  {
   "cell_type": "markdown",
   "id": "03aee628",
   "metadata": {},
   "source": [
    "### Converting Pandas Dataframe into Numpy Arrays"
   ]
  },
  {
   "cell_type": "code",
   "execution_count": 53,
   "id": "00a37472",
   "metadata": {},
   "outputs": [
    {
     "name": "stdout",
     "output_type": "stream",
     "text": [
      "<class 'numpy.ndarray'>\n"
     ]
    }
   ],
   "source": [
    "numpy_array = df.to_numpy()\n",
    "\n",
    "print(type(numpy_array))"
   ]
  },
  {
   "cell_type": "code",
   "execution_count": 54,
   "id": "e2b3455e",
   "metadata": {},
   "outputs": [
    {
     "data": {
      "text/plain": [
       "array([[30, 11,  2, ...,  0,  2,  0],\n",
       "       [33,  8,  2, ...,  4,  0,  0],\n",
       "       [35,  5,  1, ...,  1,  0,  0],\n",
       "       ...,\n",
       "       [57, 10,  2, ...,  0,  2,  0],\n",
       "       [28,  2,  2, ...,  3,  3,  0],\n",
       "       [44,  3,  1, ...,  7,  3,  0]], dtype=int64)"
      ]
     },
     "execution_count": 54,
     "metadata": {},
     "output_type": "execute_result"
    }
   ],
   "source": [
    "numpy_array"
   ]
  },
  {
   "cell_type": "markdown",
   "id": "f5d085cc",
   "metadata": {},
   "source": [
    "## Applying Different Types Of Techniques"
   ]
  },
  {
   "cell_type": "code",
   "execution_count": 55,
   "id": "6d91a5bf",
   "metadata": {},
   "outputs": [],
   "source": [
    "features = list(df.columns[1:16])\n",
    "features\n",
    "X = df[features]\n",
    "y = df[\"y\"]"
   ]
  },
  {
   "cell_type": "code",
   "execution_count": 56,
   "id": "36083879",
   "metadata": {},
   "outputs": [],
   "source": [
    "from sklearn.model_selection import train_test_split\n",
    "X = df[['age','job','marital','education','default','housing','loan','contact','day','month','duration','campaign','previous','poutcome']]\n",
    "y = df['y']\n",
    "X_train, X_test, y_train, y_test = train_test_split(X, y, test_size=0.25, random_state=1)"
   ]
  },
  {
   "cell_type": "markdown",
   "id": "2d329bb1",
   "metadata": {},
   "source": [
    "### 1) Decision Tree"
   ]
  },
  {
   "cell_type": "code",
   "execution_count": 57,
   "id": "11a57106",
   "metadata": {},
   "outputs": [],
   "source": [
    "from sklearn.tree import DecisionTreeClassifier # Importing Decision Tree Classifier\n",
    "from sklearn.model_selection import train_test_split # Importing train_test_split function for splitting the training and testing data\n",
    "from sklearn import metrics #Importing scikit-learn metrics module for accuracy calculation\n",
    "\n",
    "from sklearn.model_selection import cross_val_score\n",
    "# Creating Decision Tree classifer object\n",
    "clf = DecisionTreeClassifier()\n",
    "\n",
    "# Train Decision Tree Classifer\n",
    "clf = clf.fit(X_train,y_train)\n",
    "\n",
    "#Predict the response for test dataset\n",
    "y_pred = clf.predict(X_test)"
   ]
  },
  {
   "cell_type": "code",
   "execution_count": 58,
   "id": "68e2b764",
   "metadata": {},
   "outputs": [
    {
     "name": "stdout",
     "output_type": "stream",
     "text": [
      "Accuracy: 0.8647214854111406\n"
     ]
    }
   ],
   "source": [
    "# Accuracy Of Decision Tree\n",
    "\n",
    "print(\"Accuracy:\",metrics.accuracy_score(y_test, y_pred))"
   ]
  },
  {
   "cell_type": "code",
   "execution_count": 59,
   "id": "b96bac8e",
   "metadata": {},
   "outputs": [
    {
     "name": "stdout",
     "output_type": "stream",
     "text": [
      "[0.86092715 0.87389381 0.86283186 0.86725664 0.86061947 0.83849558\n",
      " 0.85840708 0.90044248 0.86946903 0.84292035]\n",
      "Mean Accuracy of Decision Tree: 0.8635263435503722\n"
     ]
    }
   ],
   "source": [
    "clf = DecisionTreeClassifier()\n",
    "dt_accuracy = cross_val_score(clf, X, y, cv = 10)\n",
    "print(dt_accuracy)\n",
    "\n",
    "mean=np.mean(dt_accuracy)\n",
    "print(\"Mean Accuracy of Decision Tree:\", mean)"
   ]
  },
  {
   "cell_type": "markdown",
   "id": "e3719218",
   "metadata": {},
   "source": [
    "### 2) Random Forest"
   ]
  },
  {
   "cell_type": "code",
   "execution_count": 60,
   "id": "7de60c4e",
   "metadata": {},
   "outputs": [
    {
     "name": "stdout",
     "output_type": "stream",
     "text": [
      "[0.87637969 0.89380531 0.87831858 0.8960177  0.90044248 0.90265487\n",
      " 0.87831858 0.88938053 0.91150442 0.89380531]\n",
      "Mean Accuracy of Random Forest is: 0.8920627478559847\n"
     ]
    }
   ],
   "source": [
    "from sklearn.ensemble import RandomForestClassifier\n",
    "from sklearn.model_selection import train_test_split\n",
    "from sklearn.model_selection import cross_val_score\n",
    "\n",
    "rf =RandomForestClassifier(n_estimators=10)\n",
    "\n",
    "scoresRF=cross_val_score(rf, X, y, cv=10)\n",
    "print(scoresRF)\n",
    "meanRF = np.mean(scoresRF)\n",
    "print(\"Mean Accuracy of Random Forest is:\", meanRF)"
   ]
  },
  {
   "cell_type": "markdown",
   "id": "ddeba026",
   "metadata": {},
   "source": [
    "### Yes, Random Forest performs better than Decision Tree, since it has a higher accuracy of 0.8944 as compared to 0.8644 of Decision Tree."
   ]
  },
  {
   "cell_type": "markdown",
   "id": "3f8bb871",
   "metadata": {},
   "source": [
    "### 3) KNN"
   ]
  },
  {
   "cell_type": "code",
   "execution_count": 61,
   "id": "ce02f77f",
   "metadata": {},
   "outputs": [
    {
     "name": "stdout",
     "output_type": "stream",
     "text": [
      "[0.89403974 0.88274336 0.88053097 0.90265487 0.87389381 0.88495575\n",
      " 0.89159292 0.90044248 0.89159292 0.88053097]\n",
      "Mean Accuracy of KNN is: 0.8882977788196682\n"
     ]
    }
   ],
   "source": [
    "from sklearn.neighbors import KNeighborsClassifier\n",
    "from sklearn.model_selection import cross_val_score\n",
    "import numpy as np\n",
    "# Creating KNN classifier\n",
    "\n",
    "knn = KNeighborsClassifier(n_neighbors = 10)\n",
    "# Fit the classifier to the data\n",
    "knn_scores = cross_val_score(knn, X, y, cv=10)\n",
    "print(knn_scores)\n",
    "\n",
    "KNN = np.mean(knn_scores)\n",
    "print(\"Mean Accuracy of KNN is:\", KNN)"
   ]
  },
  {
   "cell_type": "code",
   "execution_count": 62,
   "id": "517ef8c9",
   "metadata": {
    "scrolled": true
   },
   "outputs": [
    {
     "name": "stdout",
     "output_type": "stream",
     "text": [
      "1\n",
      "0.8487082185625818\n",
      "2\n",
      "0.8787884115727989\n",
      "3\n",
      "0.8754688507296489\n",
      "4\n",
      "0.885866104045791\n",
      "5\n",
      "0.8812195979604993\n",
      "6\n",
      "0.8880760514954383\n",
      "7\n",
      "0.8843149895485357\n",
      "8\n",
      "0.8882977788196683\n",
      "9\n",
      "0.887412823067456\n",
      "10\n",
      "0.8882977788196682\n",
      "11\n",
      "0.8867495946394733\n",
      "12\n",
      "0.8852023872316318\n",
      "13\n",
      "0.8856429115630311\n",
      "14\n",
      "0.8863066283771903\n",
      "15\n",
      "0.8869698568051732\n",
      "16\n",
      "0.8880765398816152\n",
      "17\n",
      "0.8894034851237571\n",
      "18\n",
      "0.8869703451913498\n",
      "19\n",
      "0.8871915841294029\n",
      "20\n",
      "0.8863076051495439\n",
      "21\n",
      "0.8867505714118268\n",
      "22\n",
      "0.885866104045791\n",
      "23\n",
      "0.8867505714118268\n",
      "24\n",
      "0.8863076051495439\n",
      "25\n",
      "0.889183711344234\n",
      "26\n",
      "0.8885204829162514\n",
      "27\n",
      "0.8885199945300748\n",
      "28\n",
      "0.8889619840200043\n",
      "29\n",
      "0.8878562777159156\n",
      "30\n",
      "0.8885195061438982\n",
      "31\n",
      "0.8871925609017562\n",
      "32\n",
      "0.8869713219637031\n",
      "33\n",
      "0.888298267205845\n",
      "34\n",
      "0.8869713219637031\n",
      "35\n",
      "0.8878567661020922\n",
      "36\n",
      "0.8876355271640393\n",
      "37\n",
      "0.8882987555920216\n",
      "38\n",
      "0.8880775166539687\n",
      "39\n",
      "0.8878562777159156\n",
      "40\n",
      "0.8871925609017562\n",
      "41\n",
      "0.8874137998398094\n",
      "42\n",
      "0.8878562777159156\n",
      "43\n",
      "0.8876350387778625\n",
      "44\n",
      "0.8871925609017562\n",
      "45\n",
      "0.8878562777159157\n",
      "46\n",
      "0.8871920725155794\n",
      "47\n",
      "0.8878557893297389\n",
      "48\n",
      "0.8871925609017562\n",
      "49\n",
      "0.8889619840200043\n",
      "50\n",
      "0.8880770282677919\n"
     ]
    }
   ],
   "source": [
    "# Loop over K values\n",
    "neighbors = np.arange(1, 51)\n",
    "results = []\n",
    "for k in range(1,51):\n",
    "    print(k)\n",
    "    knn = KNeighborsClassifier(n_neighbors=k)\n",
    "    cvs_scores = cross_val_score(knn, X, y, cv=10)\n",
    "    score = np.mean(cvs_scores)\n",
    "    print(score)\n",
    "    results.append((k, score))\n",
    "    # Computing training and test data accuracy for different values of K"
   ]
  },
  {
   "cell_type": "code",
   "execution_count": 63,
   "id": "622a078e",
   "metadata": {},
   "outputs": [
    {
     "data": {
      "image/png": "[encoded data removed]",
      "text/plain": [
       "<Figure size 432x288 with 1 Axes>"
      ]
     },
     "metadata": {
      "needs_background": "light"
     },
     "output_type": "display_data"
    }
   ],
   "source": [
    "import matplotlib.pyplot as plt \n",
    "    \n",
    "plt.plot([ x[0] for x in results ], [ x[1] for x in results ]) \n",
    "    \n",
    "plt.xlabel('k') \n",
    "plt.ylabel('accuracy') \n",
    "plt.title('k 1- 50') \n",
    "plt.show() "
   ]
  },
  {
   "cell_type": "markdown",
   "id": "2a1f4ba1",
   "metadata": {},
   "source": [
    "### No, we could not see a substantial difference, however there is a marginal difference in the accuracy as the value of K changes with minimum accuracy of 0.849 ( at k =1 ) and reaches the maximum accuracy of 0.889 ( at k = 17). The best performance we could get out of KNN is 0.889 at (k = 17)."
   ]
  },
  {
   "cell_type": "markdown",
   "id": "56f31c0b",
   "metadata": {},
   "source": [
    "### 4) Naive Bayes"
   ]
  },
  {
   "cell_type": "code",
   "execution_count": 64,
   "id": "b8b4311c",
   "metadata": {},
   "outputs": [
    {
     "name": "stdout",
     "output_type": "stream",
     "text": [
      "[0.86754967 0.8340708  0.86061947 0.85619469 0.86946903 0.88274336\n",
      " 0.85840708 0.86946903 0.86061947 0.84955752]\n",
      "Mean Accuracy of Gaussian NaiveBayes is :  0.8608700111352048\n"
     ]
    }
   ],
   "source": [
    "from sklearn.naive_bayes import GaussianNB\n",
    "gnb = GaussianNB()\n",
    "gnb_scores = cross_val_score(gnb, X, y, cv=10)\n",
    "print(gnb_scores)\n",
    "Naive_Bayes = np.mean(gnb_scores)\n",
    "print(\"Mean Accuracy of Gaussian NaiveBayes is : \",Naive_Bayes)"
   ]
  },
  {
   "cell_type": "code",
   "execution_count": 65,
   "id": "75b3ef58",
   "metadata": {},
   "outputs": [
    {
     "name": "stdout",
     "output_type": "stream",
     "text": [
      "[0.88300221 0.88495575 0.88495575 0.88495575 0.88495575 0.88495575\n",
      " 0.88495575 0.88495575 0.88495575 0.88495575]\n",
      "Mean Accuracy of Multinomial NaiveBayes is : 0.8847603977417025\n"
     ]
    }
   ],
   "source": [
    "from sklearn.preprocessing import MinMaxScaler\n",
    "\n",
    "scaler = MinMaxScaler()\n",
    "X_scale = scaler.fit_transform(X)\n",
    "\n",
    "from sklearn.naive_bayes import MultinomialNB\n",
    "\n",
    "mnG=MultinomialNB()\n",
    "\n",
    "print((cross_val_score(mnG,X_scale,y,cv=10)))\n",
    "print(\"Mean Accuracy of Multinomial NaiveBayes is :\",cross_val_score(mnG,X_scale,y,cv=10).mean())"
   ]
  },
  {
   "cell_type": "markdown",
   "id": "77c7623f",
   "metadata": {},
   "source": [
    "### Yes, MultinomialNB (0.884) performs better as its accuracy is slightly higher than GaussianNB (0.860)."
   ]
  },
  {
   "cell_type": "code",
   "execution_count": 66,
   "id": "1d390f0f",
   "metadata": {},
   "outputs": [],
   "source": [
    "# Outcomes\n",
    "\n",
    "#  Model Name                   Accuracy      Cross Validation\n",
    "    \n",
    "# DecisionTreeClassifier         0.864             30-70 Split\n",
    "\n",
    "# DecisionTreeClassifier         0.864              10-fold\n",
    "  \n",
    "# RandomForestClassifier         0.894              10-fold\n",
    "  \n",
    "#  KNeighboursClassifier         0.888              10-fold\n",
    "      \n",
    "#  KNeighboursClassifier         0.889              10-fold ( with 1:50 K values, we got maximum at K = 17 which is 0.889 )\n",
    "      \n",
    "#   Gaussian NaiveBayes           0.860              10-fold\n",
    " \n",
    "# Multinomial NaiveBayes         0.884              10-fold\n",
    "      \n",
    "   "
   ]
  },
  {
   "cell_type": "markdown",
   "id": "4d3d5b0c",
   "metadata": {},
   "source": [
    "### As per the above analysis, Random Forest technique yields the highest accuracy among the other models."
   ]
  },
  {
   "cell_type": "code",
   "execution_count": null,
   "id": "5e8ab4c6",
   "metadata": {},
   "outputs": [],
   "source": []
  }
 ],
 "metadata": {
  "kernelspec": {
   "display_name": "Python 3 (ipykernel)",
   "language": "python",
   "name": "python3"
  },
  "language_info": {
   "codemirror_mode": {
    "name": "ipython",
    "version": 3
   },
   "file_extension": ".py",
   "mimetype": "text/x-python",
   "name": "python",
   "nbconvert_exporter": "python",
   "pygments_lexer": "ipython3",
   "version": "3.7.1"
  }
 },
 "nbformat": 4,
 "nbformat_minor": 5
}
